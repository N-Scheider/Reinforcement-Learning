{
 "cells": [
  {
   "cell_type": "markdown",
   "id": "848aff0b-8cab-40b0-a892-893d42957e8d",
   "metadata": {},
   "source": [
    "# Introduction to Python #\n",
    "\n",
    "by Christoph Knochenhauer and Alexander Schütt"
   ]
  },
  {
   "cell_type": "markdown",
   "id": "c9a3986c-864b-455f-9ca9-65a4559f4c2c",
   "metadata": {},
   "source": [
    "# 1. Motivation #"
   ]
  },
  {
   "cell_type": "markdown",
   "id": "3a78be8e-9b9c-47b1-ad04-8cff967dd04f",
   "metadata": {},
   "source": [
    "* Most popular programming language (according to https://pypl.github.io/PYPL.html)"
   ]
  },
  {
   "cell_type": "markdown",
   "id": "e3dd29fa-ac25-4773-9daf-910e14f4b7e2",
   "metadata": {},
   "source": [
    "* Beginner-friendly (easy syntax)"
   ]
  },
  {
   "cell_type": "markdown",
   "id": "da9c949f-16b3-4e19-aa16-3f6a5ebcdccd",
   "metadata": {},
   "source": [
    "* Easily extendable (by importing packages)"
   ]
  },
  {
   "cell_type": "markdown",
   "id": "e77792ad-516f-4b4f-bc80-acba09f4f25f",
   "metadata": {},
   "source": [
    "* open source (even true for most packages)"
   ]
  },
  {
   "cell_type": "markdown",
   "id": "87e5ce28-063d-4671-8dad-affe490ad058",
   "metadata": {},
   "source": [
    "* Top preferred language for data science and research"
   ]
  },
  {
   "cell_type": "markdown",
   "id": "86102206-286e-442d-a11a-bbf4eeda73f6",
   "metadata": {},
   "source": [
    "* Extremly useful for financial analysis, as it allows to import huge amounts of data and can be quickly analysed"
   ]
  },
  {
   "cell_type": "markdown",
   "id": "516593c7-f599-4840-9d17-ef2d162f225a",
   "metadata": {},
   "source": [
    "# 2. Python Basics #"
   ]
  },
  {
   "cell_type": "markdown",
   "id": "87c0d8c8-9ff4-4172-9cd2-9aa436323e27",
   "metadata": {},
   "source": [
    "### Print statement\n",
    "\n",
    "Python allows to output information using the print function"
   ]
  },
  {
   "cell_type": "code",
   "execution_count": null,
   "id": "02ca4185-8dab-4843-bf49-6a675eafe441",
   "metadata": {},
   "outputs": [],
   "source": [
    "print(\"Hello world\")   #with Shift+Enter code-cells can be executed"
   ]
  },
  {
   "cell_type": "code",
   "execution_count": null,
   "id": "f9dc28b6-438d-4af7-9d53-70032a5087c0",
   "metadata": {},
   "outputs": [],
   "source": [
    "print('Hello','everyone')  #using commas one print statement can output multiple outpus\n",
    "\n",
    "print(\"Hello\"+\"you\")   #using the \"+\" symbol strings will be concatenated\n",
    "\n",
    "\"Hi\"   #the last line of each code-block is printed automatically "
   ]
  },
  {
   "cell_type": "markdown",
   "id": "369c213a-f949-4391-aafc-a690009d8b2d",
   "metadata": {},
   "source": [
    "### Integers and floats\n",
    "+( - ) for addition (subtraction) and *( / ) for multiplication (division)"
   ]
  },
  {
   "cell_type": "code",
   "execution_count": null,
   "id": "3f508a8e-3c7a-4c91-b398-1acb9479bcb8",
   "metadata": {},
   "outputs": [],
   "source": [
    "5+5, 2-4, 1*1, 1*1.0, 1+2.5, 3*1.5, 3/10"
   ]
  },
  {
   "cell_type": "markdown",
   "id": "c5905480-7875-4c39-8d89-bf6f83527d70",
   "metadata": {},
   "source": [
    "Strings can be multiplied with integers"
   ]
  },
  {
   "cell_type": "code",
   "execution_count": null,
   "id": "ce3fe969-0736-4813-b62e-86668a9844d9",
   "metadata": {},
   "outputs": [],
   "source": [
    "3*\"abc\", 0*\"aa\""
   ]
  },
  {
   "cell_type": "markdown",
   "id": "183acfa2-3fcb-4721-9f17-49a23346036f",
   "metadata": {},
   "source": [
    "Other useful basic math operations:"
   ]
  },
  {
   "cell_type": "code",
   "execution_count": null,
   "id": "542be5c2-24b7-4a4e-8883-4afc2e97f6c1",
   "metadata": {},
   "outputs": [],
   "source": [
    "print(5//2) #floor division\n",
    "\n",
    "print(19%7) #modulo operator\n",
    "\n",
    "print(3**2) #powers\n",
    "\n",
    "print(9 ** 0.5) #root"
   ]
  },
  {
   "cell_type": "code",
   "execution_count": null,
   "id": "7d2ba120-f931-457f-9716-6feabfab9d9f",
   "metadata": {},
   "outputs": [],
   "source": [
    "max(1,0,5),min(-3,4)   #maximum and minimum functions"
   ]
  },
  {
   "cell_type": "markdown",
   "id": "750ac704-861f-4880-b492-9c4fd4649e02",
   "metadata": {},
   "source": [
    "### Booleans\n",
    "Data type, with new operations not, and, or"
   ]
  },
  {
   "cell_type": "code",
   "execution_count": null,
   "id": "133f1cb7-4c4a-403f-b477-c27933834279",
   "metadata": {},
   "outputs": [],
   "source": [
    "True, not False, True and True, True and False, True or False, False or False, True*False, True+True"
   ]
  },
  {
   "cell_type": "code",
   "execution_count": null,
   "id": "a1bbfdd9",
   "metadata": {},
   "outputs": [],
   "source": [
    "bool(0), bool(1), bool(2), bool(3)"
   ]
  },
  {
   "cell_type": "markdown",
   "id": "f5cd4919-cd11-412b-8284-8065fabfdb01",
   "metadata": {},
   "source": [
    "Comparisions can be made using the following operations"
   ]
  },
  {
   "cell_type": "code",
   "execution_count": null,
   "id": "53336dfd-a610-49e2-a7e2-e948269ce5b9",
   "metadata": {},
   "outputs": [],
   "source": [
    "1 == 1, 1 == 1.0, 1 != 2   # == is used to check if 2 things are equal, != to check if something isn't equal"
   ]
  },
  {
   "cell_type": "code",
   "execution_count": null,
   "id": "91f1a8d9-1c8e-497b-a042-44fd97b4ff3b",
   "metadata": {},
   "outputs": [],
   "source": [
    "5 <= 2, 3 > 2, 4 < 4, 1 <= 1    # < and > are used for greater and smaller and can be combined with and \"=\" sign"
   ]
  },
  {
   "cell_type": "markdown",
   "id": "2e6265f4-23ca-42bd-9904-696131107c12",
   "metadata": {},
   "source": [
    "### Type checking\n",
    "With the operator type, the type of different objects can be checked"
   ]
  },
  {
   "cell_type": "code",
   "execution_count": null,
   "id": "7d1a5cae-fac5-4e6a-86c8-158b7381269a",
   "metadata": {},
   "outputs": [],
   "source": [
    "type(1), type(1.0), type(3/2), type(not 1 == 2)"
   ]
  },
  {
   "cell_type": "markdown",
   "id": "602ed6e2-05bb-4c8f-bb52-ff80afc70bd1",
   "metadata": {},
   "source": [
    "## Variables"
   ]
  },
  {
   "cell_type": "code",
   "execution_count": null,
   "id": "27e7fcbb-1972-4958-a4b8-1a9a497d209e",
   "metadata": {},
   "outputs": [],
   "source": [
    "x = 4   #declaration of a variable\n",
    "\n",
    "print(x)  #variables are printable\n",
    "\n",
    "x = x + 1  #and can be changed\n",
    "\n",
    "print(x)\n",
    "\n",
    "x += 1  #another way to add 1, the \"+\" symbol can be changed by any other basic math operator\n",
    "\n",
    "print(x)\n",
    "\n",
    "x = x * \"a\"   #type changes of variables are possible\n",
    "\n",
    "print(x)"
   ]
  },
  {
   "cell_type": "markdown",
   "id": "09fd9f73-6510-4abf-8778-1a7ab6e4c020",
   "metadata": {},
   "source": [
    "Type-checking of a variable can be done in the following way:"
   ]
  },
  {
   "cell_type": "code",
   "execution_count": null,
   "id": "36a35bd4-4078-4bef-9951-44e89dbe1015",
   "metadata": {},
   "outputs": [],
   "source": [
    "type(x), type(x) == int, type(x) == float, type(x) == str, type(x) == bool"
   ]
  },
  {
   "cell_type": "markdown",
   "id": "1b69438c-3a7c-4921-baa9-18f97ba57c81",
   "metadata": {},
   "source": [
    "## Lists\n",
    "Lists are very important, as multiple items can be stored in a single variable"
   ]
  },
  {
   "cell_type": "code",
   "execution_count": null,
   "id": "ac1902ca-d73d-4e8e-8d8b-5f1f1f9a7b1e",
   "metadata": {},
   "outputs": [],
   "source": [
    "list_example = [13, \"abcde\", True]   #lists are of arbitrary finite length. Any item can be stored within a list\n",
    "list_example"
   ]
  },
  {
   "cell_type": "code",
   "execution_count": null,
   "id": "b4fa8c7f",
   "metadata": {},
   "outputs": [],
   "source": [
    "list_example = list_example + [1,2]   #lists can be added to lists\n",
    "list_example"
   ]
  },
  {
   "cell_type": "code",
   "execution_count": null,
   "id": "581162ec",
   "metadata": {},
   "outputs": [],
   "source": [
    "list_example = 3 * [1,2]   #lists can be multiplied by integers\n",
    "list_example"
   ]
  },
  {
   "cell_type": "markdown",
   "id": "84dfa802-1858-4b55-a1eb-4834ce2cfca5",
   "metadata": {},
   "source": [
    "#### Length of lists"
   ]
  },
  {
   "cell_type": "code",
   "execution_count": null,
   "id": "7c6478e6-c3e6-41b1-971e-44ccf0f5cf28",
   "metadata": {},
   "outputs": [],
   "source": [
    "len(list_example)"
   ]
  },
  {
   "cell_type": "markdown",
   "id": "663502d4-43b7-4c8e-8986-2179a2a3f19f",
   "metadata": {},
   "source": [
    "#### Indexing in Python"
   ]
  },
  {
   "cell_type": "code",
   "execution_count": null,
   "id": "82a82ce1-e60a-466e-98ec-c6209191164f",
   "metadata": {},
   "outputs": [],
   "source": [
    "list_example = [13, \"abcde\", True]\n",
    "print(list_example)\n",
    "\n",
    "print(list_example[0])   #lists begin with index 0\n",
    "\n",
    "print(list_example[-1])   #-1 represents the last index\n",
    "\n",
    "print(list_example[1],list_example[-2])"
   ]
  },
  {
   "cell_type": "code",
   "execution_count": null,
   "id": "13c7920c-313b-40fb-916c-780fc21f1ba1",
   "metadata": {},
   "outputs": [],
   "source": [
    "print(list_example[1:])  #colon symbol represents start/end element \n",
    "print(list_example[1:2])\n",
    "print(list_example[:-1])"
   ]
  },
  {
   "cell_type": "markdown",
   "id": "101f38ef-8f37-4aed-b972-fc7225e3ee93",
   "metadata": {},
   "source": [
    "The same holds for strings"
   ]
  },
  {
   "cell_type": "code",
   "execution_count": null,
   "id": "1dfa4e89-c8bf-449a-89df-0e151d966541",
   "metadata": {},
   "outputs": [],
   "source": [
    "abc = \"abc\"\n",
    "abc[0], abc[1:], abc[:-1], abc[-1:]"
   ]
  },
  {
   "cell_type": "markdown",
   "id": "f04035a7",
   "metadata": {},
   "source": [
    "#### Change items by index"
   ]
  },
  {
   "cell_type": "code",
   "execution_count": null,
   "id": "be6e2f93",
   "metadata": {},
   "outputs": [],
   "source": [
    "print(list_example)\n",
    "\n",
    "list_example[0] = 31   #list elements can be changed using the index\n",
    "\n",
    "list_example"
   ]
  },
  {
   "cell_type": "markdown",
   "id": "58dd2aeb-1ce3-4ac7-a755-5b25699731eb",
   "metadata": {},
   "source": [
    "#### Appending items to a list\n",
    "Items can be appended to a list, by using append"
   ]
  },
  {
   "cell_type": "code",
   "execution_count": null,
   "id": "20abdf7d-7452-44f5-8466-e9ce7c582c3c",
   "metadata": {},
   "outputs": [],
   "source": [
    "print(list_example)\n",
    "\n",
    "list_example.append(42)\n",
    "\n",
    "print(list_example)"
   ]
  },
  {
   "cell_type": "markdown",
   "id": "2c1fde58-a988-4586-81ba-0c2b0c1ed098",
   "metadata": {},
   "source": [
    "#### Deleting items in a list\n",
    "And items can be deleted or popped out of the list"
   ]
  },
  {
   "cell_type": "code",
   "execution_count": null,
   "id": "b1b0f483-6849-4777-bbd9-9ca22c1372a4",
   "metadata": {},
   "outputs": [],
   "source": [
    "print(list_example)\n",
    "\n",
    "list_example.remove(42)   #remove removes the first item of the list, that equals the input of remove\n",
    "\n",
    "print(list_example)\n",
    "\n",
    "first_item = list_example.pop(0)    #pop removes and returns item, given the index\n",
    "\n",
    "print(first_item, list_example)"
   ]
  },
  {
   "cell_type": "markdown",
   "id": "163776c6-85b2-4bd8-9e55-f7bcee4668f5",
   "metadata": {},
   "source": [
    "#### List sorting\n",
    "A list can be sorted, using the sort command"
   ]
  },
  {
   "cell_type": "code",
   "execution_count": null,
   "id": "ada81de5-8a49-4c3e-b2a9-2aa1a07cfe6f",
   "metadata": {},
   "outputs": [],
   "source": [
    "list_example = [12,356,0,-1,99]\n",
    "list_example.sort()   #sort command\n",
    "list_example"
   ]
  },
  {
   "cell_type": "markdown",
   "id": "c8d910d2-8abf-4efa-9f82-c1a95a8bda61",
   "metadata": {},
   "source": [
    "### Tuples\n",
    "Tupels are a special form of a list, that is used in cases, where the elements of a list shouldn't be changed"
   ]
  },
  {
   "cell_type": "code",
   "execution_count": null,
   "id": "4f4d9dc3-26d5-4c1c-bcdf-8a91b8e9b1a1",
   "metadata": {},
   "outputs": [],
   "source": [
    "example_tuple = (1,2,3,4)   #Tuples are defined using ()\n",
    "example_tuple[2:]    #indexing works in the same way as for lists"
   ]
  },
  {
   "cell_type": "markdown",
   "id": "0ba28822-4db1-4c01-b32d-5ce2cc78d31a",
   "metadata": {},
   "source": [
    "#### It is not possible to change, append, remove or pop items in a tuple!\n"
   ]
  },
  {
   "cell_type": "markdown",
   "id": "919d7e95-c16a-4152-a8cb-66d56a3ce9f2",
   "metadata": {},
   "source": [
    "### Dictionaries\n",
    "Dictionaries are a special form of a list"
   ]
  },
  {
   "cell_type": "code",
   "execution_count": null,
   "id": "1c763ce1-f30d-42fc-a82e-e91f1d037863",
   "metadata": {},
   "outputs": [],
   "source": [
    "python_dict = {            #definition of a dictionary, using brackets { }\n",
    "    \"name\": \"Python\",      \n",
    "    \"year_created\": 1989,\n",
    "    \"founder\": \"Guido van Rossum\",\n",
    "    \"current_version\": \"3.12\"\n",
    "}"
   ]
  },
  {
   "cell_type": "code",
   "execution_count": null,
   "id": "e084fed5-fbf2-4261-8691-02922de9f5d2",
   "metadata": {},
   "outputs": [],
   "source": [
    "python_dict[\"name\"], python_dict[\"current_version\"]"
   ]
  },
  {
   "cell_type": "code",
   "execution_count": null,
   "id": "a749eefc-c9da-4238-bea5-7b32305d5e62",
   "metadata": {},
   "outputs": [],
   "source": [
    "print(python_dict.keys())   #how to get all keys of a dictionary\n",
    "print(python_dict.values())  #collection of all values"
   ]
  },
  {
   "cell_type": "markdown",
   "id": "f5a0b64e-e519-4df8-b547-bfec344c5064",
   "metadata": {},
   "source": [
    "## Functions\n",
    "Functions are used to minimise code duplication, code organisation and abstraction of code\n",
    "\n",
    "They are defined using def function_name and to return values the command return is used"
   ]
  },
  {
   "cell_type": "code",
   "execution_count": null,
   "id": "5c909a57-48b5-4387-ada0-8fa61d4ba06a",
   "metadata": {},
   "outputs": [],
   "source": [
    "def subtraction(a,b):   #we define here a function, that takes a and b as an input\n",
    "    # here we could do some calculations\n",
    "    \n",
    "    return a-b  #the function returns the value a-b    "
   ]
  },
  {
   "cell_type": "code",
   "execution_count": null,
   "id": "bd7bc3be-75dc-4257-844b-04d93299540a",
   "metadata": {},
   "outputs": [],
   "source": [
    "value = subtraction(2,3)  #by returning the value (instead of printing it in the end), we allow variables to become the returned value\n",
    "value"
   ]
  },
  {
   "cell_type": "markdown",
   "id": "aa33b0de-abbf-4c62-beef-c8735a94157a",
   "metadata": {},
   "source": [
    "### Optional inputs"
   ]
  },
  {
   "cell_type": "code",
   "execution_count": null,
   "id": "ec532365-cdc0-4fd1-afc1-f7499a9e4d62",
   "metadata": {},
   "outputs": [],
   "source": [
    "def f(x, C = 0):\n",
    "    return x**3 + C"
   ]
  },
  {
   "cell_type": "code",
   "execution_count": null,
   "id": "6a4063c9",
   "metadata": {},
   "outputs": [],
   "source": [
    "f(2)"
   ]
  },
  {
   "cell_type": "code",
   "execution_count": null,
   "id": "a1a83f08-279c-4308-bc3e-f1e0e8a9c7a2",
   "metadata": {},
   "outputs": [],
   "source": [
    "f(2, C = -3)"
   ]
  },
  {
   "cell_type": "markdown",
   "id": "9b6a369f-8e75-4184-a3a0-887421b5aeec",
   "metadata": {},
   "source": [
    "### Global variables\n",
    "Variables that have been defined outside of functions can be used inside a function, without taking them as an input. Note that they can't be changed within the function (but overwritten)!"
   ]
  },
  {
   "cell_type": "code",
   "execution_count": null,
   "id": "3b17781a-8b47-4893-8240-68eda61da15e",
   "metadata": {},
   "outputs": [],
   "source": [
    "b = 3\n",
    "def g(a):\n",
    "    return a + b\n",
    "g(2)"
   ]
  },
  {
   "cell_type": "markdown",
   "id": "79888791-65d8-4864-ac8e-38dd5c47a012",
   "metadata": {},
   "source": [
    "### If statements\n",
    "The command if checks some condition, that has to be a boolean value. Can be combined together with elif and else"
   ]
  },
  {
   "cell_type": "code",
   "execution_count": null,
   "id": "00d2a57c-1f08-48f4-8808-c16b0f9b19aa",
   "metadata": {},
   "outputs": [],
   "source": [
    "value = 3\n",
    "\n",
    "if value > 5:\n",
    "    print(\"The value is greater than 5\")\n",
    "elif value > 2:\n",
    "    print(\"The value is greater than 2 and smaller or equal 5\")\n",
    "else:\n",
    "    print(\"The value is not bigger than 2\")"
   ]
  },
  {
   "cell_type": "markdown",
   "id": "2930a790-25bb-4f9a-82b1-8ef0e1263266",
   "metadata": {},
   "source": [
    "#### Recursive functions"
   ]
  },
  {
   "cell_type": "code",
   "execution_count": null,
   "id": "541526e3-06c8-46ff-9711-dc1bad1def6a",
   "metadata": {},
   "outputs": [],
   "source": [
    "def floor(n):    #functions rounds a positive number to the next smaller integer\n",
    "    if n - 1 <= 0: \n",
    "        return 0\n",
    "    return 1+floor(n-1)   #note that no else is needed, as the function would already return a value, if it got into the if condition\n",
    "\n",
    "floor(6.8)"
   ]
  },
  {
   "cell_type": "code",
   "execution_count": null,
   "id": "bfee6e7e-4b93-4f2d-86e9-747880f2900d",
   "metadata": {},
   "outputs": [],
   "source": [
    "def fibonacci(n):\n",
    "    if n == 0:\n",
    "        return 0\n",
    "    elif n == 1: \n",
    "        return 1\n",
    "    return fibonacci(n-1)+fibonacci(n-2)\n",
    "fibonacci(9)"
   ]
  },
  {
   "cell_type": "markdown",
   "id": "82c6367e-cf1c-4c3c-bbc6-3aa94010a37e",
   "metadata": {},
   "source": [
    "## For-statements"
   ]
  },
  {
   "cell_type": "code",
   "execution_count": null,
   "id": "160fa6e9-a85b-491b-93b2-7a631f91f76e",
   "metadata": {},
   "outputs": [],
   "source": [
    "for i in range(5):\n",
    "    print(i)"
   ]
  },
  {
   "cell_type": "code",
   "execution_count": null,
   "id": "fce231fa-55f8-4ad0-8abd-5b220d5741d8",
   "metadata": {},
   "outputs": [],
   "source": [
    "for i in range(1,3):\n",
    "    print(i)"
   ]
  },
  {
   "cell_type": "code",
   "execution_count": null,
   "id": "b24ab8ab-d60c-436e-bbc6-d32a1d33f1de",
   "metadata": {},
   "outputs": [],
   "source": [
    "for i in range(0,10,3):\n",
    "    print(i)"
   ]
  },
  {
   "cell_type": "code",
   "execution_count": null,
   "id": "084df4cb-e852-4171-9be8-c79e31e80074",
   "metadata": {},
   "outputs": [],
   "source": [
    "for i in range(5,0,-1):\n",
    "    print(i)"
   ]
  },
  {
   "cell_type": "markdown",
   "id": "13ad4e2e-cf0a-4c62-8b41-454247128960",
   "metadata": {},
   "source": [
    "#### One can use for to go through each item in a list"
   ]
  },
  {
   "cell_type": "code",
   "execution_count": null,
   "id": "d02878e4-b988-4cd4-93bf-deb56e180da4",
   "metadata": {},
   "outputs": [],
   "source": [
    "example_list = [3,1,\"test\",{\"name\": \"dictionary\"}]\n",
    "for list_item in example_list:\n",
    "    print(list_item)"
   ]
  },
  {
   "cell_type": "markdown",
   "id": "b456b31f-b9ad-4da2-8d0f-96b9c60b1c72",
   "metadata": {},
   "source": [
    "Or alternatively using the index:"
   ]
  },
  {
   "cell_type": "code",
   "execution_count": null,
   "id": "28e31a23-45ea-4ddd-b973-223bca9d01cd",
   "metadata": {},
   "outputs": [],
   "source": [
    "for i in range(len(example_list)):\n",
    "    print(example_list[i])"
   ]
  },
  {
   "cell_type": "markdown",
   "id": "ea8fd683-b40e-4a5e-bce5-6a1dcc217125",
   "metadata": {},
   "source": [
    "The values of a list can only be changed in a for statement if the index is used! "
   ]
  },
  {
   "cell_type": "code",
   "execution_count": null,
   "id": "fd7588c2-83f0-4169-8553-6c0426fb0602",
   "metadata": {},
   "outputs": [],
   "source": [
    "for i in range(len(example_list)):\n",
    "    example_list[i]=0\n",
    "example_list"
   ]
  },
  {
   "cell_type": "code",
   "execution_count": null,
   "id": "1e972e06-f38c-4f55-8e56-b71a8df817e1",
   "metadata": {},
   "outputs": [],
   "source": [
    "for list_item in example_list:\n",
    "    list_item = 23\n",
    "example_list"
   ]
  },
  {
   "cell_type": "markdown",
   "id": "ee26c7b3-4974-4310-9794-545533b1fe6b",
   "metadata": {},
   "source": [
    "## While loops\n",
    "While loops will repeat itselfs, until the boolean statement becomes False"
   ]
  },
  {
   "cell_type": "code",
   "execution_count": null,
   "id": "7bdd7c07-b9c3-46da-a261-d77aad0e695f",
   "metadata": {},
   "outputs": [],
   "source": [
    "n = 10.5   #set variable\n",
    "while n > 1:   #as long as n is greater than 1\n",
    "    n = n - 1   #substract 1 from n\n",
    "n   #after the while loop, the integer n becomes "
   ]
  },
  {
   "cell_type": "code",
   "execution_count": null,
   "id": "ca85b919-9017-4b03-b82e-2e21058f3337",
   "metadata": {},
   "outputs": [],
   "source": [
    "print(example_list)\n",
    "while len(example_list) > 0:\n",
    "    example_list.pop(0)\n",
    "example_list"
   ]
  },
  {
   "cell_type": "markdown",
   "id": "f6085518",
   "metadata": {},
   "source": [
    "### Python List Comprehension\n",
    "One can integrate for and if statements directly inside the creation of a list"
   ]
  },
  {
   "cell_type": "code",
   "execution_count": null,
   "id": "dc6ddbfb",
   "metadata": {},
   "outputs": [],
   "source": [
    "A = [i for i in range(10)]\n",
    "A"
   ]
  },
  {
   "cell_type": "code",
   "execution_count": null,
   "id": "cd3a9e39",
   "metadata": {},
   "outputs": [],
   "source": [
    "B = [i if i%2==0 else 0 for i in range(10)]\n",
    "B"
   ]
  },
  {
   "cell_type": "code",
   "execution_count": null,
   "id": "8499c269",
   "metadata": {},
   "outputs": [],
   "source": [
    "C = [[i+j if i%2==0 else j for i in range(10)] for j in range(3)]\n",
    "C"
   ]
  },
  {
   "cell_type": "markdown",
   "id": "aecbf10d-e977-4874-8e11-ee4e9e1f4070",
   "metadata": {},
   "source": [
    "# 3. Additional Packages #"
   ]
  },
  {
   "cell_type": "code",
   "execution_count": null,
   "id": "c8fbcabe-d31b-4b16-86ab-6ee9aaaec7fe",
   "metadata": {},
   "outputs": [],
   "source": [
    "import math, tqdm, time, scipy"
   ]
  },
  {
   "cell_type": "markdown",
   "id": "8370b436-17e5-438f-8d29-fac8d3ef7aed",
   "metadata": {},
   "source": [
    "### math\n",
    "The package math can be used for special mathematical operations, as:"
   ]
  },
  {
   "cell_type": "code",
   "execution_count": null,
   "id": "27bdc0f3-b051-42ba-bab0-e9785487e2fa",
   "metadata": {},
   "outputs": [],
   "source": [
    "math.e, math.pi, math.log(math.e)"
   ]
  },
  {
   "cell_type": "markdown",
   "id": "132361e3-2158-4554-8eac-0139a5ea667e",
   "metadata": {},
   "source": [
    "### time\n",
    "The package is useful to measure the time needed for certain operations or to limit the used time"
   ]
  },
  {
   "cell_type": "code",
   "execution_count": null,
   "id": "c574356b-aab6-4ed7-86d8-21417a6e7d38",
   "metadata": {},
   "outputs": [],
   "source": [
    "i = 0\n",
    "start_time = time.time()   #save current time, given in seconds\n",
    "for j in range(10000000):   \n",
    "    i += 1\n",
    "time.time() - start_time  "
   ]
  },
  {
   "cell_type": "code",
   "execution_count": null,
   "id": "bead93e9-1ae9-4169-af84-550f18b7f709",
   "metadata": {},
   "outputs": [],
   "source": [
    "i = 0\n",
    "start_time = time.time()   #save current time, given in seconds\n",
    "while time.time()-start_time < 5:   #within 5 seconds\n",
    "    i += 1    #calculate how often 1 can be added to i\n",
    "i"
   ]
  },
  {
   "cell_type": "markdown",
   "id": "1d99c7df-f762-4644-8c7c-b79910fa3701",
   "metadata": {},
   "source": [
    "### tqdm\n",
    "tqdm shows in real time, how far a for statement is"
   ]
  },
  {
   "cell_type": "code",
   "execution_count": null,
   "id": "cd620de5-b7a1-43fd-9e9a-9f18f0a3dd91",
   "metadata": {},
   "outputs": [],
   "source": [
    "for j in tqdm.tqdm(range(100)):   \n",
    "    time.sleep(.1)   #command does .1 seconds nothing"
   ]
  },
  {
   "cell_type": "markdown",
   "id": "4a4d241b-db92-46f3-900e-497d45e24dae",
   "metadata": {},
   "source": [
    "### SciPy\n",
    "Collection of mathematical algorithms and functions. Includes special functions, integration, optimization, FFT, statistics"
   ]
  },
  {
   "cell_type": "code",
   "execution_count": null,
   "id": "9d0b4325-c7bc-4df0-a647-040494663186",
   "metadata": {},
   "outputs": [],
   "source": [
    "from scipy.stats import norm\n",
    "norm.cdf(1)  #CDF function of N(0,1)"
   ]
  },
  {
   "cell_type": "markdown",
   "id": "bbe5a5a8-3b3c-492d-b20e-d4a866d2174e",
   "metadata": {},
   "source": [
    "# 4. NumPy #\n",
    "Numpy is a python package, that allows fast computations of N-dimensional arrays. "
   ]
  },
  {
   "cell_type": "code",
   "execution_count": null,
   "id": "34e30747-da2a-42be-a210-53c70f13ca60",
   "metadata": {},
   "outputs": [],
   "source": [
    "import numpy as np    #typically numpy is imported as np"
   ]
  },
  {
   "cell_type": "code",
   "execution_count": null,
   "id": "4f767c01-5cff-4981-8867-a2c2722b200f",
   "metadata": {},
   "outputs": [],
   "source": [
    "A = np.array([[1,2,3],[4,5,6]])\n",
    "A"
   ]
  },
  {
   "cell_type": "code",
   "execution_count": null,
   "id": "1dce06ef-72fb-44eb-8e1d-a1d4629733ca",
   "metadata": {},
   "outputs": [],
   "source": [
    "b = np.array([1,1,1])\n",
    "A@b   #matrix multiplication"
   ]
  },
  {
   "cell_type": "markdown",
   "id": "09d14253-2256-4fb7-a440-7d43348eeb1f",
   "metadata": {},
   "source": [
    "There are a lot of useful functions for matrices/ arrays"
   ]
  },
  {
   "cell_type": "code",
   "execution_count": null,
   "id": "9d512ae0-c9a1-4a22-9b9c-5985d2bb0cc2",
   "metadata": {},
   "outputs": [],
   "source": [
    "print(\"A transposed:\")\n",
    "print(A.T)\n",
    "print(\"The sum of A:\")\n",
    "print(np.sum(A))\n",
    "print(\"Sum over one axis:\")\n",
    "print(np.sum(A,axis = 0))\n",
    "print(\"mean of A:\")\n",
    "print(np.mean(A))\n",
    "print(\"stanard deviation of A:\")\n",
    "print(np.std(A))\n",
    "print(\"shape of A:\")\n",
    "print(A.shape)\n",
    "print(\"cumulated sum of A, over axis 1\")\n",
    "print(np.cumsum(A,axis = 1))"
   ]
  },
  {
   "cell_type": "markdown",
   "id": "3337bdbe-07c6-478e-8f3f-6f70f8cd3afa",
   "metadata": {},
   "source": [
    "### 1D array creation functions "
   ]
  },
  {
   "cell_type": "markdown",
   "id": "ae211055-afa1-45d7-aae7-0f214eec03ed",
   "metadata": {},
   "source": [
    "##### List to array"
   ]
  },
  {
   "cell_type": "code",
   "execution_count": null,
   "id": "c9b24fab-a77e-4ec7-bb41-dc6798346aef",
   "metadata": {},
   "outputs": [],
   "source": [
    "example_list = [3,2,4]\n",
    "np.array(example_list)   "
   ]
  },
  {
   "cell_type": "markdown",
   "id": "291d2dff-dc33-4826-9253-d1a5b4b0e3ac",
   "metadata": {},
   "source": [
    "##### numpy arange"
   ]
  },
  {
   "cell_type": "code",
   "execution_count": null,
   "id": "552d6ef8-d864-4b0a-88c0-130cfa032429",
   "metadata": {},
   "outputs": [],
   "source": [
    "np.arange(10)"
   ]
  },
  {
   "cell_type": "markdown",
   "id": "353cc802-ca5a-43cc-9bd9-226c14e0566e",
   "metadata": {},
   "source": [
    "##### numpy linspace"
   ]
  },
  {
   "cell_type": "code",
   "execution_count": null,
   "id": "6ca44501-81ce-47eb-ad49-0d41d8d4a07a",
   "metadata": {},
   "outputs": [],
   "source": [
    "np.linspace(-1,1,11)"
   ]
  },
  {
   "cell_type": "markdown",
   "id": "1dc92b80-bd03-4d80-acd9-5104f0258790",
   "metadata": {},
   "source": [
    "### 2D matrices creation functions"
   ]
  },
  {
   "cell_type": "code",
   "execution_count": null,
   "id": "3ffd545b-b23c-4c6c-9582-57b619d7e34e",
   "metadata": {},
   "outputs": [],
   "source": [
    "np.eye(3)"
   ]
  },
  {
   "cell_type": "code",
   "execution_count": null,
   "id": "ae5e9b35-e6dd-4dda-955e-444f47b93a22",
   "metadata": {},
   "outputs": [],
   "source": [
    "np.zeros((4,3))"
   ]
  },
  {
   "cell_type": "code",
   "execution_count": null,
   "id": "7fc1c247-918c-4a67-b1c1-b0986f45dda5",
   "metadata": {},
   "outputs": [],
   "source": [
    "np.ones((2,5))"
   ]
  },
  {
   "cell_type": "code",
   "execution_count": null,
   "id": "1f8cf436-c87c-4593-b610-02df4c15ff15",
   "metadata": {},
   "outputs": [],
   "source": [
    "np.diag([3,2,1])"
   ]
  },
  {
   "cell_type": "code",
   "execution_count": null,
   "id": "3bb40a6f-f5a2-4053-b53f-76d5bdf2c3ec",
   "metadata": {},
   "outputs": [],
   "source": [
    "np.arange(9).reshape((3,3))"
   ]
  },
  {
   "cell_type": "markdown",
   "id": "8556e75b-7fb9-4499-8098-4c521b67fe3e",
   "metadata": {},
   "source": [
    "### Numpy stacking\n",
    "Multiple matrices can be stacked onto each other using the functions np.hstack and numpy.vstack"
   ]
  },
  {
   "cell_type": "code",
   "execution_count": null,
   "id": "3d6cce51-b3e7-4da0-9de8-3064b26d61b2",
   "metadata": {},
   "outputs": [],
   "source": [
    "a = np.arange(4)\n",
    "b = 2 * np.arange(4)\n",
    "print(np.hstack([a,b]))   #horizontal stacking\n",
    "print(np.vstack([a,b]))   #vertical stacking"
   ]
  },
  {
   "cell_type": "code",
   "execution_count": null,
   "id": "cb2bcfde-e299-41af-9172-7494be362c70",
   "metadata": {},
   "outputs": [],
   "source": [
    "A = np.arange(9).reshape((3,3))\n",
    "B = np.arange(6).reshape((2,3))\n",
    "np.vstack([A,B])"
   ]
  },
  {
   "cell_type": "code",
   "execution_count": null,
   "id": "6748f82b-c18a-440c-8289-37d1d74bbb75",
   "metadata": {},
   "outputs": [],
   "source": [
    "A = np.arange(9).reshape((3,3))\n",
    "B = np.arange(6).reshape((3,2))\n",
    "np.hstack([A,B])"
   ]
  },
  {
   "cell_type": "markdown",
   "id": "c4f09fbc-862b-4288-b5ce-bf11943eefea",
   "metadata": {},
   "source": [
    "#### numpy.tile\n",
    "Constructs an array by adding copies of itself to the given shape"
   ]
  },
  {
   "cell_type": "code",
   "execution_count": null,
   "id": "3808f00d-5a65-4b4c-bcde-fe5d6fc3ac8d",
   "metadata": {},
   "outputs": [],
   "source": [
    "A = np.arange(5)\n",
    "np.tile(A, (3,2))"
   ]
  },
  {
   "cell_type": "markdown",
   "id": "828d54f3-1c13-4368-a4ee-cdee709e16ce",
   "metadata": {},
   "source": [
    "### Numpy indexing"
   ]
  },
  {
   "cell_type": "code",
   "execution_count": null,
   "id": "811176f9-9f90-432b-b529-93fc3aa77b10",
   "metadata": {},
   "outputs": [],
   "source": [
    "A = np.arange(12).reshape((4,3))\n",
    "A"
   ]
  },
  {
   "cell_type": "code",
   "execution_count": null,
   "id": "3bb49cf2-5296-4321-bd85-ef0589370a7f",
   "metadata": {},
   "outputs": [],
   "source": [
    "print(A[0])\n",
    "print(A[:,0])\n",
    "print(A[2:4,1:3])\n",
    "A[2:4,1:3] = np.arange(4).reshape((2,2))\n",
    "A"
   ]
  },
  {
   "cell_type": "markdown",
   "id": "5f5fd002-6602-4024-bc91-64a6dff319f6",
   "metadata": {},
   "source": [
    "#### Boolean indexing"
   ]
  },
  {
   "cell_type": "code",
   "execution_count": null,
   "id": "76ccca01-ab43-4f29-a35a-58219ad3fbb0",
   "metadata": {},
   "outputs": [],
   "source": [
    "A < 3   #this outputs a boolean matrix of the same size as A. For each entry in A the condition is checked"
   ]
  },
  {
   "cell_type": "code",
   "execution_count": null,
   "id": "f216f7dd-a18c-40ce-b83f-59ac728b55df",
   "metadata": {},
   "outputs": [],
   "source": [
    "A[A < 3] = 10   #we can index using this matrix\n",
    "A"
   ]
  },
  {
   "cell_type": "code",
   "execution_count": null,
   "id": "3af62ef3-f58d-4f4d-97c1-68cdd3156ec0",
   "metadata": {},
   "outputs": [],
   "source": [
    "A[A <= 9] = np.arange(np.sum(A <= 9))  #it is possible to insert arrays\n",
    "A"
   ]
  },
  {
   "cell_type": "markdown",
   "id": "8d14a70f-a663-4a64-87f1-50f103c0d00c",
   "metadata": {},
   "source": [
    "### np.all and np.any\n",
    "Useful tools, allows the usage of if and while functions"
   ]
  },
  {
   "cell_type": "code",
   "execution_count": null,
   "id": "88faf0c2-c392-4a84-8866-941896368350",
   "metadata": {},
   "outputs": [],
   "source": [
    "np.all(A>0), np.any(A<4)   #return single boolean, all (any) checks if all (any) entries satisfy the condition"
   ]
  },
  {
   "cell_type": "markdown",
   "id": "aa1aff05",
   "metadata": {},
   "source": [
    "### Numpy math operations"
   ]
  },
  {
   "cell_type": "code",
   "execution_count": null,
   "id": "5019405b",
   "metadata": {},
   "outputs": [],
   "source": [
    "A = np.arange(4).reshape((2,2)) + 1\n",
    "A"
   ]
  },
  {
   "cell_type": "code",
   "execution_count": null,
   "id": "1c2468ba",
   "metadata": {},
   "outputs": [],
   "source": [
    "np.log(A), np.exp(A), np.pi*A"
   ]
  },
  {
   "cell_type": "code",
   "execution_count": null,
   "id": "b0bc87e6",
   "metadata": {},
   "outputs": [],
   "source": [
    "np.nan, np.inf, float(\"inf\")"
   ]
  },
  {
   "cell_type": "code",
   "execution_count": null,
   "id": "5e70c2fa-5b15-489d-bea1-d515dee096f2",
   "metadata": {},
   "outputs": [],
   "source": [
    "np.maximum(np.arange(4),np.array([-1,3,2,1]))"
   ]
  },
  {
   "cell_type": "markdown",
   "id": "97b3e418",
   "metadata": {},
   "source": [
    "### Numpy Broadcasting\n",
    "Let $a\\in\\mathbb{R}^n$ and $b\\in\\mathbb{R}^m$ be 2 vectors. What do you expect $$a+b^T$$ is going to look like?"
   ]
  },
  {
   "cell_type": "code",
   "execution_count": null,
   "id": "fa01ddc8",
   "metadata": {},
   "outputs": [],
   "source": [
    "a = (10*np.arange(4))[:,None]\n",
    "b = np.arange(3)[:,None]\n",
    "a+b.T"
   ]
  },
  {
   "cell_type": "markdown",
   "id": "36418e94",
   "metadata": {},
   "source": [
    "Why is [:,None] needed? There is one small problem with numpy vectors:"
   ]
  },
  {
   "cell_type": "code",
   "execution_count": null,
   "id": "7161f473",
   "metadata": {},
   "outputs": [],
   "source": [
    "a = np.arange(3)\n",
    "a.shape, a.T.shape  #a and a transposed have the same shape."
   ]
  },
  {
   "cell_type": "markdown",
   "id": "41b546e9",
   "metadata": {},
   "source": [
    "This problem is solved by extending the dimension of the vector $a$. The following methods are possible:"
   ]
  },
  {
   "cell_type": "code",
   "execution_count": null,
   "id": "e295b4d0",
   "metadata": {},
   "outputs": [],
   "source": [
    "a = np.arange(3)\n",
    "print((a[:,None]).shape, (a[:,np.newaxis]).shape)"
   ]
  },
  {
   "cell_type": "code",
   "execution_count": null,
   "id": "c66e6395",
   "metadata": {},
   "outputs": [],
   "source": [
    "a = a[:,None]\n",
    "a.T.shape"
   ]
  },
  {
   "cell_type": "markdown",
   "id": "13c2e014",
   "metadata": {},
   "source": [
    "This procedure is useful for a lot of tasks"
   ]
  },
  {
   "cell_type": "markdown",
   "id": "9b45df88",
   "metadata": {},
   "source": [
    "### NumPy random\n",
    "The submodule numpy.random integrates the ability to sample from a variety of probability distriubtions"
   ]
  },
  {
   "cell_type": "markdown",
   "id": "fc02a7e8",
   "metadata": {},
   "source": [
    "##### random integers"
   ]
  },
  {
   "cell_type": "code",
   "execution_count": null,
   "id": "0b285991",
   "metadata": {},
   "outputs": [],
   "source": [
    "np.random.randint(1,high=10,size=4)   #4 random integers from 1 to 10"
   ]
  },
  {
   "cell_type": "markdown",
   "id": "4fa59726",
   "metadata": {},
   "source": [
    "##### random floats in [0,1)"
   ]
  },
  {
   "cell_type": "code",
   "execution_count": null,
   "id": "64708c51",
   "metadata": {},
   "outputs": [],
   "source": [
    "np.random.random(3)  #3 random numbers in [0,1)"
   ]
  },
  {
   "cell_type": "markdown",
   "id": "aac215eb",
   "metadata": {},
   "source": [
    "##### random normal distributed data"
   ]
  },
  {
   "cell_type": "code",
   "execution_count": null,
   "id": "e50c19ee",
   "metadata": {},
   "outputs": [],
   "source": [
    "np.random.normal(loc = 2, scale = 5, size = (5,5))   #random 5x5 matrix, each entry is distributed N(2,5)"
   ]
  },
  {
   "cell_type": "code",
   "execution_count": null,
   "id": "27b49901-cb45-435c-80db-3c009eb280f0",
   "metadata": {},
   "outputs": [],
   "source": [
    "np.random.normal(loc = 0, scale = np.arange(10), size = 10)   #it is possible to insert arrays for the loc and scale argument"
   ]
  },
  {
   "cell_type": "markdown",
   "id": "a408c8a2",
   "metadata": {},
   "source": [
    "##### shuffling"
   ]
  },
  {
   "cell_type": "code",
   "execution_count": null,
   "id": "ac919fac",
   "metadata": {},
   "outputs": [],
   "source": [
    "a = np.arange(10)\n",
    "np.random.shuffle(a)\n",
    "a"
   ]
  },
  {
   "cell_type": "markdown",
   "id": "25357d06-5d59-498c-98f0-8f316da6105f",
   "metadata": {},
   "source": [
    "# 5. Matplotlib #\n",
    "Visualization tool in Python"
   ]
  },
  {
   "cell_type": "code",
   "execution_count": null,
   "id": "ca9251a6",
   "metadata": {},
   "outputs": [],
   "source": [
    "import matplotlib.pyplot as plt"
   ]
  },
  {
   "cell_type": "markdown",
   "id": "80e32539",
   "metadata": {},
   "source": [
    "## Plot function"
   ]
  },
  {
   "cell_type": "code",
   "execution_count": null,
   "id": "faf536ed-3464-492d-b122-9499ae747eb3",
   "metadata": {},
   "outputs": [],
   "source": [
    "x = np.linspace(-1,1,100)\n",
    "plt.figure(figsize=(6,5))\n",
    "for i in range(5):\n",
    "    plt.plot(x,x**(i+1),label= f\"$x^{{ {i+1} }}$\")  \n",
    "plt.xlabel(\"x-axis\")   #label on x axis\n",
    "plt.ylabel(\"y-axis\")   #label on y axis\n",
    "plt.axvline(0, c=\"r\",ls=\"--\")   #vertical line, \"c\" is used for the color, \"ls\" for the linestyle\n",
    "plt.axhline(0, c=\"r\",ls=\"-.\")   #horizontal line\n",
    "\n",
    "plt.legend()  #creates a legend, uses the labels in the plot function\n",
    "plt.show()"
   ]
  },
  {
   "cell_type": "markdown",
   "id": "4e5fcaa2",
   "metadata": {},
   "source": [
    "## Scatter function"
   ]
  },
  {
   "cell_type": "code",
   "execution_count": null,
   "id": "da9a5afd",
   "metadata": {},
   "outputs": [],
   "source": [
    "x = np.random.normal(loc = 1, scale = 1, size = 1000)\n",
    "y = np.random.normal(loc = 1, scale = 1, size = 1000)\n",
    "plt.figure(figsize = (7,7))\n",
    "plt.scatter(x,y,alpha = 0.3)   #the alpha value makes the points less \n",
    "plt.xlim([-5,6])   \n",
    "plt.ylim([-5,6])\n",
    "plt.title(\"1000 samples from a normal distribution\")\n",
    "plt.show()"
   ]
  },
  {
   "cell_type": "markdown",
   "id": "c7ebbd25",
   "metadata": {},
   "source": [
    "## Histogram Plot"
   ]
  },
  {
   "cell_type": "code",
   "execution_count": null,
   "id": "36fcc47f",
   "metadata": {},
   "outputs": [],
   "source": [
    "data = np.random.normal(loc = 2, scale = 3, size=10000)\n",
    "plt.hist(data, bins = 75)\n",
    "plt.title(f\"Normal distributed samples with empirical mean {np.mean(data):.2f} and std {np.std(data):.2f}\")\n",
    "plt.show()"
   ]
  }
 ],
 "metadata": {
  "kernelspec": {
   "display_name": "Python 3 (ipykernel)",
   "language": "python",
   "name": "python3"
  },
  "language_info": {
   "codemirror_mode": {
    "name": "ipython",
    "version": 3
   },
   "file_extension": ".py",
   "mimetype": "text/x-python",
   "name": "python",
   "nbconvert_exporter": "python",
   "pygments_lexer": "ipython3",
   "version": "3.11.7"
  }
 },
 "nbformat": 4,
 "nbformat_minor": 5
}
